{
 "cells": [
  {
   "cell_type": "code",
   "execution_count": 1,
   "id": "f070e0b4",
   "metadata": {},
   "outputs": [],
   "source": [
    "import json\n",
    "import pandas as pd"
   ]
  },
  {
   "cell_type": "code",
   "execution_count": 2,
   "id": "6048bc3e",
   "metadata": {},
   "outputs": [],
   "source": [
    "def extract_nodes(plan_node, depth=0, parent=None, path='root'):\n",
    "    \"\"\"Рекурсивный обход узлов плана\"\"\"\n",
    "    row = {\n",
    "        'Node Type': plan_node.get('Node Type'),\n",
    "        'Relation Name': plan_node.get('Relation Name', ''),\n",
    "        'Actual Total Time': plan_node.get('Actual Total Time'),\n",
    "        'Actual Rows': plan_node.get('Actual Rows'),\n",
    "        'Depth': depth,\n",
    "        'Parent': parent,\n",
    "        'Path': path,\n",
    "    }\n",
    "    rows = [row]\n",
    "    \n",
    "    for i, subplan in enumerate(plan_node.get('Plans', [])):\n",
    "        subpath = f\"{path}.{i}\"\n",
    "        rows += extract_nodes(subplan, depth + 1, plan_node.get('Node Type'), subpath)\n",
    "    \n",
    "    return rows"
   ]
  },
  {
   "cell_type": "code",
   "execution_count": 3,
   "id": "01b05867",
   "metadata": {},
   "outputs": [],
   "source": [
    "with open(\"explain.json\") as f:\n",
    "    explain_data = json.load(f)"
   ]
  },
  {
   "cell_type": "code",
   "execution_count": 4,
   "id": "09464d3e",
   "metadata": {},
   "outputs": [],
   "source": [
    "root_plan = explain_data[0]['Plan']\n",
    "nodes = extract_nodes(root_plan)"
   ]
  },
  {
   "cell_type": "code",
   "execution_count": 6,
   "id": "a0107cd7",
   "metadata": {},
   "outputs": [
    {
     "data": {
      "text/html": [
       "<div>\n",
       "<style scoped>\n",
       "    .dataframe tbody tr th:only-of-type {\n",
       "        vertical-align: middle;\n",
       "    }\n",
       "\n",
       "    .dataframe tbody tr th {\n",
       "        vertical-align: top;\n",
       "    }\n",
       "\n",
       "    .dataframe thead th {\n",
       "        text-align: right;\n",
       "    }\n",
       "</style>\n",
       "<table border=\"1\" class=\"dataframe\">\n",
       "  <thead>\n",
       "    <tr style=\"text-align: right;\">\n",
       "      <th></th>\n",
       "      <th>Node Type</th>\n",
       "      <th>Relation Name</th>\n",
       "      <th>Actual Total Time</th>\n",
       "      <th>Actual Rows</th>\n",
       "      <th>Depth</th>\n",
       "      <th>Parent</th>\n",
       "      <th>Path</th>\n",
       "    </tr>\n",
       "  </thead>\n",
       "  <tbody>\n",
       "    <tr>\n",
       "      <th>0</th>\n",
       "      <td>Hash Join</td>\n",
       "      <td></td>\n",
       "      <td>0.065</td>\n",
       "      <td>1</td>\n",
       "      <td>0</td>\n",
       "      <td>None</td>\n",
       "      <td>root</td>\n",
       "    </tr>\n",
       "    <tr>\n",
       "      <th>1</th>\n",
       "      <td>Seq Scan</td>\n",
       "      <td>employees</td>\n",
       "      <td>0.034</td>\n",
       "      <td>5</td>\n",
       "      <td>1</td>\n",
       "      <td>Hash Join</td>\n",
       "      <td>root.0</td>\n",
       "    </tr>\n",
       "    <tr>\n",
       "      <th>2</th>\n",
       "      <td>Hash</td>\n",
       "      <td></td>\n",
       "      <td>0.018</td>\n",
       "      <td>1</td>\n",
       "      <td>1</td>\n",
       "      <td>Hash Join</td>\n",
       "      <td>root.1</td>\n",
       "    </tr>\n",
       "    <tr>\n",
       "      <th>3</th>\n",
       "      <td>Seq Scan</td>\n",
       "      <td>departments</td>\n",
       "      <td>0.012</td>\n",
       "      <td>1</td>\n",
       "      <td>2</td>\n",
       "      <td>Hash</td>\n",
       "      <td>root.1.0</td>\n",
       "    </tr>\n",
       "  </tbody>\n",
       "</table>\n",
       "</div>"
      ],
      "text/plain": [
       "   Node Type Relation Name  Actual Total Time  Actual Rows  Depth     Parent  \\\n",
       "0  Hash Join                            0.065            1      0       None   \n",
       "1   Seq Scan     employees              0.034            5      1  Hash Join   \n",
       "2       Hash                            0.018            1      1  Hash Join   \n",
       "3   Seq Scan   departments              0.012            1      2       Hash   \n",
       "\n",
       "       Path  \n",
       "0      root  \n",
       "1    root.0  \n",
       "2    root.1  \n",
       "3  root.1.0  "
      ]
     },
     "execution_count": 6,
     "metadata": {},
     "output_type": "execute_result"
    }
   ],
   "source": [
    "df = pd.DataFrame(nodes)\n",
    "df"
   ]
  }
 ],
 "metadata": {
  "kernelspec": {
   "display_name": ".venv",
   "language": "python",
   "name": "python3"
  },
  "language_info": {
   "codemirror_mode": {
    "name": "ipython",
    "version": 3
   },
   "file_extension": ".py",
   "mimetype": "text/x-python",
   "name": "python",
   "nbconvert_exporter": "python",
   "pygments_lexer": "ipython3",
   "version": "3.12.4"
  }
 },
 "nbformat": 4,
 "nbformat_minor": 5
}
